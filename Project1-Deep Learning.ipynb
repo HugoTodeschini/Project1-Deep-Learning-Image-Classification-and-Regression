{
 "cells": [
  {
   "cell_type": "markdown",
   "metadata": {},
   "source": [
    "MP1"
   ]
  },
  {
   "cell_type": "code",
   "execution_count": 336,
   "metadata": {},
   "outputs": [],
   "source": [
    "import matplotlib.pyplot as plt\n",
    "%matplotlib inline\n",
    "import numpy as np\n",
    "import matplotlib.patches as patches\n",
    "\n",
    "#Keras\n",
    "from keras.models import Sequential\n",
    "from keras.layers import Dense, Activation\n",
    "from keras.optimizers import SGD\n",
    "from keras.utils import np_utils"
   ]
  },
  {
   "cell_type": "code",
   "execution_count": 337,
   "metadata": {},
   "outputs": [],
   "source": [
    "seed = 5\n",
    "np.random.seed(seed)"
   ]
  },
  {
   "cell_type": "code",
   "execution_count": 338,
   "metadata": {},
   "outputs": [],
   "source": [
    "# On some implementations of matplotlib, you may need to change this value\n",
    "IMAGE_SIZE = 72\n",
    "\n",
    "def generate_a_drawing(figsize, U, V, noise=0.0):\n",
    "    fig = plt.figure(figsize=(figsize,figsize))\n",
    "    ax = plt.subplot(111)\n",
    "    plt.axis('Off')\n",
    "    ax.set_xlim(0,figsize)\n",
    "    ax.set_ylim(0,figsize)\n",
    "    ax.fill(U, V, \"k\")\n",
    "    fig.canvas.draw()\n",
    "    imdata = np.frombuffer(fig.canvas.tostring_rgb(), dtype=np.uint8)[::3].astype(np.float32)\n",
    "    imdata = imdata + noise * np.random.random(imdata.size)\n",
    "    plt.close(fig)\n",
    "    return imdata\n",
    "\n",
    "def generate_a_rectangle(noise=0.0, free_location=False):\n",
    "    figsize = 1.0    \n",
    "    U = np.zeros(4)\n",
    "    V = np.zeros(4)\n",
    "    if free_location:\n",
    "        corners = np.random.random(4)\n",
    "        top = max(corners[0], corners[1])\n",
    "        bottom = min(corners[0], corners[1])\n",
    "        left = min(corners[2], corners[3])\n",
    "        right = max(corners[2], corners[3])\n",
    "    else:\n",
    "        side = (0.3 + 0.7 * np.random.random()) * figsize\n",
    "        top = figsize/2 + side/2\n",
    "        bottom = figsize/2 - side/2\n",
    "        left = bottom\n",
    "        right = top\n",
    "    U[0] = U[1] = top\n",
    "    U[2] = U[3] = bottom\n",
    "    V[0] = V[3] = left\n",
    "    V[1] = V[2] = right\n",
    "    return generate_a_drawing(figsize, U, V, noise)\n",
    "\n",
    "\n",
    "def generate_a_disk(noise=0.0, free_location=False):\n",
    "    figsize = 1.0\n",
    "    if free_location:\n",
    "        center = np.random.random(2)\n",
    "    else:\n",
    "        center = (figsize/2, figsize/2)\n",
    "    radius = (0.3 + 0.7 * np.random.random()) * figsize/2\n",
    "    N = 50\n",
    "    U = np.zeros(N)\n",
    "    V = np.zeros(N)\n",
    "    i = 0\n",
    "    for t in np.linspace(0, 2*np.pi, N):\n",
    "        U[i] = center[0] + np.cos(t) * radius\n",
    "        V[i] = center[1] + np.sin(t) * radius\n",
    "        i = i + 1\n",
    "    return generate_a_drawing(figsize, U, V, noise)\n",
    "\n",
    "def generate_a_triangle(noise=0.0, free_location=False):\n",
    "    figsize = 1.0\n",
    "    if free_location:\n",
    "        U = np.random.random(3)\n",
    "        V = np.random.random(3)\n",
    "    else:\n",
    "        size = (0.3 + 0.7 * np.random.random())*figsize/2\n",
    "        middle = figsize/2\n",
    "        U = (middle, middle+size, middle-size)\n",
    "        V = (middle+size, middle-size, middle-size)\n",
    "    imdata = generate_a_drawing(figsize, U, V, noise)\n",
    "    return [imdata, [U[0], V[0], U[1], V[1], U[2], V[2]]]\n",
    "\n",
    "def generate_dataset_classification(nb_samples, noise=0.0, free_location=False):\n",
    "    # Getting im_size:\n",
    "    im_size = generate_a_rectangle().shape[0]\n",
    "    X = np.zeros([nb_samples,im_size])\n",
    "    Y = np.zeros(nb_samples)\n",
    "    print('Creating data:')\n",
    "    for i in range(nb_samples):\n",
    "        if i % 10 == 0:\n",
    "            print(i)\n",
    "        category = np.random.randint(3)\n",
    "        if category == 0:\n",
    "            X[i] = generate_a_rectangle(noise, free_location)\n",
    "        elif category == 1: \n",
    "            X[i] = generate_a_disk(noise, free_location)\n",
    "        else:\n",
    "            [X[i], V] = generate_a_triangle(noise, free_location)\n",
    "        Y[i] = category\n",
    "    X = (X + noise) / (255 + 2 * noise)\n",
    "    return [X, Y]\n",
    "\n",
    "def generate_test_set_classification():\n",
    "    np.random.seed(42)\n",
    "    [X_test, Y_test] = generate_dataset_classification(300, 20, True)\n",
    "    Y_test = np_utils.to_categorical(Y_test, 3) \n",
    "    return [X_test, Y_test]\n",
    "\n",
    "def generate_dataset_regression(nb_samples, noise=0.0):\n",
    "    # Getting im_size:\n",
    "    im_size = generate_a_triangle()[0].shape[0]\n",
    "    X = np.zeros([nb_samples,im_size])\n",
    "    Y = np.zeros([nb_samples, 6])\n",
    "    print('Creating data:')\n",
    "    for i in range(nb_samples):\n",
    "        if i % 10 == 0:\n",
    "            print(i)\n",
    "        [X[i], Y[i]] = generate_a_triangle(noise, True)\n",
    "    X = (X + noise) / (255 + 2 * noise)\n",
    "    return [X, Y]\n",
    "\n",
    "\n",
    "\n",
    "def visualize_prediction(x, y):\n",
    "    fig, ax = plt.subplots(figsize=(5, 5))\n",
    "    I = x.reshape((IMAGE_SIZE,IMAGE_SIZE))\n",
    "    ax.imshow(I, extent=[-0.15,1.15,-0.15,1.15],cmap='gray')\n",
    "    ax.set_xlim([0,1])\n",
    "    ax.set_ylim([0,1])\n",
    "\n",
    "    xy = y.reshape(3,2)\n",
    "    tri = patches.Polygon(xy, closed=True, fill = False, edgecolor = 'r', linewidth = 5, alpha = 0.5)\n",
    "    ax.add_patch(tri)\n",
    "\n",
    "    plt.show()\n",
    "\n",
    "def generate_test_set_regression():\n",
    "    np.random.seed(42)\n",
    "    [X_test, Y_test] = generate_dataset_regression(300, 20)\n",
    "    return [X_test, Y_test]"
   ]
  },
  {
   "cell_type": "markdown",
   "metadata": {},
   "source": [
    "Simple Classification"
   ]
  },
  {
   "cell_type": "code",
   "execution_count": 339,
   "metadata": {},
   "outputs": [
    {
     "name": "stdout",
     "output_type": "stream",
     "text": [
      "Creating data:\n",
      "0\n",
      "10\n",
      "20\n",
      "30\n",
      "40\n",
      "50\n",
      "60\n",
      "70\n",
      "80\n",
      "90\n",
      "100\n",
      "110\n",
      "120\n",
      "130\n",
      "140\n",
      "150\n",
      "160\n",
      "170\n",
      "180\n",
      "190\n",
      "200\n",
      "210\n",
      "220\n",
      "230\n",
      "240\n",
      "250\n",
      "260\n",
      "270\n",
      "280\n",
      "290\n"
     ]
    }
   ],
   "source": [
    "#Generation of data\n",
    "[X_train, Y_train] = generate_dataset_classification(300, 20)"
   ]
  },
  {
   "cell_type": "markdown",
   "metadata": {},
   "source": [
    "Gradient descent optimizer"
   ]
  },
  {
   "cell_type": "code",
   "execution_count": 499,
   "metadata": {},
   "outputs": [
    {
     "name": "stdout",
     "output_type": "stream",
     "text": [
      "Epoch 1/10\n",
      "300/300 [==============================] - 1s 5ms/step - loss: 0.3278 - acc: 0.3900\n",
      "Epoch 2/10\n",
      "300/300 [==============================] - 0s 230us/step - loss: 0.1838 - acc: 0.5733\n",
      "Epoch 3/10\n",
      "300/300 [==============================] - 0s 230us/step - loss: 0.1541 - acc: 0.6667\n",
      "Epoch 4/10\n",
      "300/300 [==============================] - 0s 245us/step - loss: 0.1146 - acc: 0.8000\n",
      "Epoch 5/10\n",
      "300/300 [==============================] - 0s 193us/step - loss: 0.0873 - acc: 0.8333\n",
      "Epoch 6/10\n",
      "300/300 [==============================] - 0s 230us/step - loss: 0.0714 - acc: 0.8633\n",
      "Epoch 7/10\n",
      "300/300 [==============================] - 0s 253us/step - loss: 0.0578 - acc: 0.9000\n",
      "Epoch 8/10\n",
      "300/300 [==============================] - 0s 237us/step - loss: 0.0599 - acc: 0.8600\n",
      "Epoch 9/10\n",
      "300/300 [==============================] - 0s 230us/step - loss: 0.0462 - acc: 0.9200\n",
      "Epoch 10/10\n",
      "300/300 [==============================] - 0s 208us/step - loss: 0.0463 - acc: 0.9067\n"
     ]
    },
    {
     "data": {
      "text/plain": [
       "<keras.callbacks.History at 0x293c87c6358>"
      ]
     },
     "execution_count": 499,
     "metadata": {},
     "output_type": "execute_result"
    }
   ],
   "source": [
    "#Sortie: 0=rectangle, 1=disk, 2=rectangle\n",
    "nb_neurons = 32\n",
    "modelsgd = Sequential([\n",
    "    Dense(nb_neurons, input_shape=(5184,)),\n",
    "    Activation('relu'),\n",
    "    Dense(3),\n",
    "    Activation('softmax')])\n",
    "sgd = SGD(lr=0.01, decay=1e-6, momentum=0.9, nesterov=True)\n",
    "modelsgd.compile(loss = 'mean_squared_error' , optimizer=sgd, metrics=['accuracy'])\n",
    "labels = np_utils.to_categorical(Y_train, num_classes=3)\n",
    "modelsgd.fit(X_train, labels, epochs=10, batch_size=32)"
   ]
  },
  {
   "cell_type": "markdown",
   "metadata": {},
   "source": [
    "Our algorithm will return a list with zeroes and one. The position of the \"1\" indicate if our image is a rectangle, a disk or a triangle."
   ]
  },
  {
   "cell_type": "code",
   "execution_count": 500,
   "metadata": {},
   "outputs": [
    {
     "name": "stdout",
     "output_type": "stream",
     "text": [
      "[[1. 0. 0.]]\n",
      "[[0. 1. 0.]]\n",
      "[[0. 0. 1.]]\n"
     ]
    }
   ],
   "source": [
    "#We test our model\n",
    "X_rectangle = generate_a_rectangle()\n",
    "X_disk = generate_a_disk()\n",
    "X_triangle = generate_a_triangle()[0]\n",
    "X_rectangle = X_rectangle.reshape(1, X_rectangle.shape[0])\n",
    "X_disk = X_disk.reshape(1, X_disk.shape[0])\n",
    "X_triangle = X_triangle.reshape(1, X_triangle.shape[0])\n",
    "print(modelsgd.predict(X_rectangle))\n",
    "print(modelsgd.predict(X_disk))\n",
    "print(modelsgd.predict(X_triangle))"
   ]
  },
  {
   "cell_type": "markdown",
   "metadata": {},
   "source": [
    "Adam optimizer"
   ]
  },
  {
   "cell_type": "code",
   "execution_count": 450,
   "metadata": {},
   "outputs": [
    {
     "name": "stdout",
     "output_type": "stream",
     "text": [
      "Epoch 1/10\n",
      "300/300 [==============================] - 0s 208us/step - loss: 0.4596 - acc: 0.7167\n",
      "Epoch 2/10\n",
      "300/300 [==============================] - 0s 230us/step - loss: 0.4471 - acc: 0.7433\n",
      "Epoch 3/10\n",
      "300/300 [==============================] - 0s 230us/step - loss: 0.4133 - acc: 0.7933\n",
      "Epoch 4/10\n",
      "300/300 [==============================] - 0s 208us/step - loss: 0.3825 - acc: 0.8233\n",
      "Epoch 5/10\n",
      "300/300 [==============================] - 0s 230us/step - loss: 0.3477 - acc: 0.9100\n",
      "Epoch 6/10\n",
      "300/300 [==============================] - 0s 178us/step - loss: 0.3253 - acc: 0.9267\n",
      "Epoch 7/10\n",
      "300/300 [==============================] - 0s 260us/step - loss: 0.2931 - acc: 0.9233\n",
      "Epoch 8/10\n",
      "300/300 [==============================] - 0s 189us/step - loss: 0.2835 - acc: 0.9500\n",
      "Epoch 9/10\n",
      "300/300 [==============================] - 0s 271us/step - loss: 0.2548 - acc: 0.9633\n",
      "Epoch 10/10\n",
      "300/300 [==============================] - 0s 230us/step - loss: 0.2379 - acc: 0.9433\n"
     ]
    },
    {
     "data": {
      "text/plain": [
       "<keras.callbacks.History at 0x2939165ba58>"
      ]
     },
     "execution_count": 450,
     "metadata": {},
     "output_type": "execute_result"
    }
   ],
   "source": [
    "nb_neurons = 32\n",
    "modeladam = Sequential([\n",
    "    Dense(nb_neurons, input_shape=(5184,)),\n",
    "    Activation('relu'),\n",
    "    Dense(3),\n",
    "    Activation('softmax')])\n",
    "modeladam.compile(loss = 'categorical_crossentropy' , optimizer='adam', metrics=['accuracy'])\n",
    "labels = np_utils.to_categorical(Y_train, num_classes=3)\n",
    "modeladam.fit(X_train, labels, epochs=10, batch_size=32)"
   ]
  },
  {
   "cell_type": "code",
   "execution_count": 451,
   "metadata": {},
   "outputs": [
    {
     "name": "stdout",
     "output_type": "stream",
     "text": [
      "[[1. 0. 0.]]\n",
      "[[0. 1. 0.]]\n",
      "[[0. 0. 1.]]\n"
     ]
    }
   ],
   "source": [
    "#We test our model\n",
    "X_rectangle = generate_a_rectangle()\n",
    "X_disk = generate_a_disk()\n",
    "X_triangle = generate_a_triangle()[0]\n",
    "X_rectangle = X_rectangle.reshape(1, X_rectangle.shape[0])\n",
    "X_disk = X_disk.reshape(1, X_disk.shape[0])\n",
    "X_triangle = X_triangle.reshape(1, X_triangle.shape[0])\n",
    "print(modeladam.predict(X_rectangle))\n",
    "print(modeladam.predict(X_disk))\n",
    "print(modeladam.predict(X_triangle))"
   ]
  },
  {
   "cell_type": "markdown",
   "metadata": {},
   "source": [
    "Visualization of the Solution"
   ]
  },
  {
   "cell_type": "code",
   "execution_count": 426,
   "metadata": {},
   "outputs": [
    {
     "data": {
      "text/plain": [
       "[array([[ 1.1502532e-02, -1.5444164e-02,  1.2425272e-02, ...,\n",
       "          1.0970334e-02,  2.6869236e-03, -2.7857663e-02],\n",
       "        [ 5.4817628e-03, -2.3383845e-02,  2.8143367e-02, ...,\n",
       "          1.4144349e-02,  2.7237518e-02,  2.3628594e-02],\n",
       "        [-7.9836678e-03, -3.2841541e-02,  4.4636223e-03, ...,\n",
       "         -9.1962582e-03,  1.6791269e-02, -2.0557925e-02],\n",
       "        ...,\n",
       "        [-8.8043511e-05,  1.5177386e-02, -2.1784257e-02, ...,\n",
       "         -2.5087407e-02,  1.3313531e-02, -2.4526177e-02],\n",
       "        [-1.7986566e-02, -3.3816226e-02, -6.1920676e-03, ...,\n",
       "          5.4822788e-03, -1.5481466e-03,  2.3005603e-02],\n",
       "        [-6.9417227e-03,  1.3733514e-02, -1.4288149e-02, ...,\n",
       "         -1.6891539e-02, -1.1691088e-02,  2.0780852e-02]], dtype=float32),\n",
       " array([ 0.        , -0.00589088,  0.        , ..., -0.00581686,\n",
       "         0.00662128,  0.        ], dtype=float32),\n",
       " array([[ 0.01369356, -0.00964056,  0.03092562],\n",
       "        [ 0.02601969,  0.01925899,  0.00698442],\n",
       "        [-0.02017078, -0.03684411,  0.03713052],\n",
       "        ...,\n",
       "        [ 0.00447461,  0.01557889, -0.01549606],\n",
       "        [-0.02014707,  0.01743216, -0.00557506],\n",
       "        [-0.03348374, -0.00432539, -0.03175213]], dtype=float32),\n",
       " array([-0.00590271,  0.00697521,  0.00414128], dtype=float32)]"
      ]
     },
     "execution_count": 426,
     "metadata": {},
     "output_type": "execute_result"
    }
   ],
   "source": [
    "modeladam.get_weights()"
   ]
  },
  {
   "cell_type": "code",
   "execution_count": 535,
   "metadata": {},
   "outputs": [
    {
     "data": {
      "text/plain": [
       "<matplotlib.image.AxesImage at 0x293ccd6eef0>"
      ]
     },
     "execution_count": 535,
     "metadata": {},
     "output_type": "execute_result"
    },
    {
     "data": {
      "image/png": "[encoded data removed]",
      "text/plain": [
       "<Figure size 432x288 with 1 Axes>"
      ]
     },
     "metadata": {
      "needs_background": "light"
     },
     "output_type": "display_data"
    }
   ],
   "source": [
    "plt.imshow(model.get_weights()[0][:,0:3], aspect='auto', cmap='gray')"
   ]
  },
  {
   "cell_type": "markdown",
   "metadata": {},
   "source": [
    "A More Difficult Classification Problem"
   ]
  },
  {
   "cell_type": "code",
   "execution_count": 545,
   "metadata": {},
   "outputs": [
    {
     "name": "stdout",
     "output_type": "stream",
     "text": [
      "Creating data:\n",
      "0\n",
      "10\n",
      "20\n",
      "30\n",
      "40\n",
      "50\n",
      "60\n",
      "70\n",
      "80\n",
      "90\n",
      "100\n",
      "110\n",
      "120\n",
      "130\n",
      "140\n",
      "150\n",
      "160\n",
      "170\n",
      "180\n",
      "190\n",
      "200\n",
      "210\n",
      "220\n",
      "230\n",
      "240\n",
      "250\n",
      "260\n",
      "270\n",
      "280\n",
      "290\n"
     ]
    }
   ],
   "source": [
    "[X_train, Y_train] = generate_dataset_classification(300, 20, True)"
   ]
  },
  {
   "cell_type": "code",
   "execution_count": 550,
   "metadata": {},
   "outputs": [
    {
     "name": "stdout",
     "output_type": "stream",
     "text": [
      "Epoch 1/10\n",
      "300/300 [==============================] - 2s 5ms/step - loss: 2.0572 - acc: 0.3133\n",
      "Epoch 2/10\n",
      "300/300 [==============================] - 0s 230us/step - loss: 1.2712 - acc: 0.3667\n",
      "Epoch 3/10\n",
      "300/300 [==============================] - 0s 208us/step - loss: 1.0328 - acc: 0.4800\n",
      "Epoch 4/10\n",
      "300/300 [==============================] - 0s 230us/step - loss: 0.9727 - acc: 0.4900\n",
      "Epoch 5/10\n",
      "300/300 [==============================] - 0s 230us/step - loss: 1.1275 - acc: 0.4500\n",
      "Epoch 6/10\n",
      "300/300 [==============================] - 0s 208us/step - loss: 0.9710 - acc: 0.5033\n",
      "Epoch 7/10\n",
      "300/300 [==============================] - 0s 230us/step - loss: 0.9491 - acc: 0.5533\n",
      "Epoch 8/10\n",
      "300/300 [==============================] - 0s 230us/step - loss: 1.0192 - acc: 0.5233\n",
      "Epoch 9/10\n",
      "300/300 [==============================] - 0s 230us/step - loss: 0.8440 - acc: 0.6133\n",
      "Epoch 10/10\n",
      "300/300 [==============================] - 0s 208us/step - loss: 0.8078 - acc: 0.6533\n"
     ]
    },
    {
     "data": {
      "text/plain": [
       "<keras.callbacks.History at 0x293c6b25b70>"
      ]
     },
     "execution_count": 550,
     "metadata": {},
     "output_type": "execute_result"
    }
   ],
   "source": [
    "nb_neurons = 32\n",
    "model = Sequential([\n",
    "    Dense(nb_neurons, input_shape=(5184,)),\n",
    "    Activation('relu'),\n",
    "    Dense(3),\n",
    "    Activation('softmax')])\n",
    "model.compile(loss = 'categorical_crossentropy' , optimizer='adam', metrics=['accuracy'])\n",
    "labels = np_utils.to_categorical(Y_train, num_classes=3)\n",
    "model.fit(X_train, labels, epochs=10, batch_size=32)"
   ]
  },
  {
   "cell_type": "code",
   "execution_count": 551,
   "metadata": {},
   "outputs": [
    {
     "name": "stdout",
     "output_type": "stream",
     "text": [
      "Creating data:\n",
      "0\n",
      "10\n",
      "20\n",
      "30\n",
      "40\n",
      "50\n",
      "60\n",
      "70\n",
      "80\n",
      "90\n",
      "100\n",
      "110\n",
      "120\n",
      "130\n",
      "140\n",
      "150\n",
      "160\n",
      "170\n",
      "180\n",
      "190\n",
      "200\n",
      "210\n",
      "220\n",
      "230\n",
      "240\n",
      "250\n",
      "260\n",
      "270\n",
      "280\n",
      "290\n"
     ]
    }
   ],
   "source": [
    "[X_test, Y_test] = generate_test_set_classification()"
   ]
  },
  {
   "cell_type": "code",
   "execution_count": 552,
   "metadata": {},
   "outputs": [
    {
     "name": "stdout",
     "output_type": "stream",
     "text": [
      "300/300 [==============================] - 1s 2ms/step\n"
     ]
    },
    {
     "data": {
      "text/plain": [
       "[0.9467106572786967, 0.5533333325386047]"
      ]
     },
     "execution_count": 552,
     "metadata": {},
     "output_type": "execute_result"
    }
   ],
   "source": [
    "model.evaluate(X_test, Y_test)"
   ]
  },
  {
   "cell_type": "markdown",
   "metadata": {},
   "source": [
    "A Regression Problem"
   ]
  },
  {
   "cell_type": "code",
   "execution_count": null,
   "metadata": {},
   "outputs": [],
   "source": []
  },
  {
   "cell_type": "markdown",
   "metadata": {},
   "source": [
    "Image Denoising"
   ]
  },
  {
   "cell_type": "code",
   "execution_count": null,
   "metadata": {},
   "outputs": [],
   "source": []
  }
 ],
 "metadata": {
  "kernelspec": {
   "display_name": "Python 3",
   "language": "python",
   "name": "python3"
  },
  "language_info": {
   "codemirror_mode": {
    "name": "ipython",
    "version": 3
   },
   "file_extension": ".py",
   "mimetype": "text/x-python",
   "name": "python",
   "nbconvert_exporter": "python",
   "pygments_lexer": "ipython3",
   "version": "3.6.7"
  }
 },
 "nbformat": 4,
 "nbformat_minor": 1
}
