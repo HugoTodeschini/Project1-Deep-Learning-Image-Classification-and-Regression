{
 "cells": [
  {
   "cell_type": "markdown",
   "metadata": {},
   "source": [
    "MP1"
   ]
  },
  {
   "cell_type": "code",
   "execution_count": 1,
   "metadata": {},
   "outputs": [
    {
     "name": "stderr",
     "output_type": "stream",
     "text": [
      "Using TensorFlow backend.\n"
     ]
    }
   ],
   "source": [
    "import matplotlib.pyplot as plt\n",
    "%matplotlib inline\n",
    "import numpy as np\n",
    "import matplotlib.patches as patches\n",
    "\n",
    "#Keras\n",
    "from keras.models import Sequential\n",
    "from keras.layers import Dense, Activation\n",
    "from keras.optimizers import SGD\n",
    "from keras.utils import np_utils\n",
    "from keras.layers import Conv1D, Conv2D, MaxPooling2D\n",
    "from keras.layers import Flatten\n",
    "from keras.layers import Dropout"
   ]
  },
  {
   "cell_type": "code",
   "execution_count": 2,
   "metadata": {},
   "outputs": [],
   "source": [
    "seed = 5\n",
    "np.random.seed(seed)"
   ]
  },
  {
   "cell_type": "code",
   "execution_count": 3,
   "metadata": {},
   "outputs": [],
   "source": [
    "# On some implementations of matplotlib, you may need to change this value\n",
    "IMAGE_SIZE = 72\n",
    "\n",
    "def generate_a_drawing(figsize, U, V, noise=0.0):\n",
    "    fig = plt.figure(figsize=(figsize,figsize))\n",
    "    ax = plt.subplot(111)\n",
    "    plt.axis('Off')\n",
    "    ax.set_xlim(0,figsize)\n",
    "    ax.set_ylim(0,figsize)\n",
    "    ax.fill(U, V, \"k\")\n",
    "    fig.canvas.draw()\n",
    "    imdata = np.frombuffer(fig.canvas.tostring_rgb(), dtype=np.uint8)[::3].astype(np.float32)\n",
    "    imdata = imdata + noise * np.random.random(imdata.size)\n",
    "    plt.close(fig)\n",
    "    return imdata\n",
    "\n",
    "def generate_a_rectangle(noise=0.0, free_location=False):\n",
    "    figsize = 1.0    \n",
    "    U = np.zeros(4)\n",
    "    V = np.zeros(4)\n",
    "    if free_location:\n",
    "        corners = np.random.random(4)\n",
    "        top = max(corners[0], corners[1])\n",
    "        bottom = min(corners[0], corners[1])\n",
    "        left = min(corners[2], corners[3])\n",
    "        right = max(corners[2], corners[3])\n",
    "    else:\n",
    "        side = (0.3 + 0.7 * np.random.random()) * figsize\n",
    "        top = figsize/2 + side/2\n",
    "        bottom = figsize/2 - side/2\n",
    "        left = bottom\n",
    "        right = top\n",
    "    U[0] = U[1] = top\n",
    "    U[2] = U[3] = bottom\n",
    "    V[0] = V[3] = left\n",
    "    V[1] = V[2] = right\n",
    "    return generate_a_drawing(figsize, U, V, noise)\n",
    "\n",
    "\n",
    "def generate_a_disk(noise=0.0, free_location=False):\n",
    "    figsize = 1.0\n",
    "    if free_location:\n",
    "        center = np.random.random(2)\n",
    "    else:\n",
    "        center = (figsize/2, figsize/2)\n",
    "    radius = (0.3 + 0.7 * np.random.random()) * figsize/2\n",
    "    N = 50\n",
    "    U = np.zeros(N)\n",
    "    V = np.zeros(N)\n",
    "    i = 0\n",
    "    for t in np.linspace(0, 2*np.pi, N):\n",
    "        U[i] = center[0] + np.cos(t) * radius\n",
    "        V[i] = center[1] + np.sin(t) * radius\n",
    "        i = i + 1\n",
    "    return generate_a_drawing(figsize, U, V, noise)\n",
    "\n",
    "def generate_a_triangle(noise=0.0, free_location=False):\n",
    "    figsize = 1.0\n",
    "    if free_location:\n",
    "        U = np.random.random(3)\n",
    "        V = np.random.random(3)\n",
    "    else:\n",
    "        size = (0.3 + 0.7 * np.random.random())*figsize/2\n",
    "        middle = figsize/2\n",
    "        U = (middle, middle+size, middle-size)\n",
    "        V = (middle+size, middle-size, middle-size)\n",
    "    imdata = generate_a_drawing(figsize, U, V, noise)\n",
    "    return [imdata, [U[0], V[0], U[1], V[1], U[2], V[2]]]\n",
    "\n",
    "def generate_dataset_classification(nb_samples, noise=0.0, free_location=False):\n",
    "    # Getting im_size:\n",
    "    im_size = generate_a_rectangle().shape[0]\n",
    "    X = np.zeros([nb_samples,im_size])\n",
    "    Y = np.zeros(nb_samples)\n",
    "    print('Creating data:')\n",
    "    for i in range(nb_samples):\n",
    "        if i % 10 == 0:\n",
    "            print(i)\n",
    "        category = np.random.randint(3)\n",
    "        if category == 0:\n",
    "            X[i] = generate_a_rectangle(noise, free_location)\n",
    "        elif category == 1: \n",
    "            X[i] = generate_a_disk(noise, free_location)\n",
    "        else:\n",
    "            [X[i], V] = generate_a_triangle(noise, free_location)\n",
    "        Y[i] = category\n",
    "    X = (X + noise) / (255 + 2 * noise)\n",
    "    return [X, Y]\n",
    "\n",
    "def generate_test_set_classification():\n",
    "    np.random.seed(42)\n",
    "    [X_test, Y_test] = generate_dataset_classification(300, 20, True)\n",
    "    Y_test = np_utils.to_categorical(Y_test, 3) \n",
    "    return [X_test, Y_test]\n",
    "\n",
    "def generate_dataset_regression(nb_samples, noise=0.0):\n",
    "    # Getting im_size:\n",
    "    im_size = generate_a_triangle()[0].shape[0]\n",
    "    X = np.zeros([nb_samples,im_size])\n",
    "    Y = np.zeros([nb_samples, 6])\n",
    "    print('Creating data:')\n",
    "    for i in range(nb_samples):\n",
    "        if i % 10 == 0:\n",
    "            print(i)\n",
    "        [X[i], Y[i]] = generate_a_triangle(noise, True)\n",
    "    X = (X + noise) / (255 + 2 * noise)\n",
    "    return [X, Y]\n",
    "\n",
    "\n",
    "\n",
    "def visualize_prediction(x, y):\n",
    "    fig, ax = plt.subplots(figsize=(5, 5))\n",
    "    I = x.reshape((IMAGE_SIZE,IMAGE_SIZE))\n",
    "    ax.imshow(I, extent=[-0.15,1.15,-0.15,1.15],cmap='gray')\n",
    "    ax.set_xlim([0,1])\n",
    "    ax.set_ylim([0,1])\n",
    "\n",
    "    xy = y.reshape(3,2)\n",
    "    tri = patches.Polygon(xy, closed=True, fill = False, edgecolor = 'r', linewidth = 5, alpha = 0.5)\n",
    "    ax.add_patch(tri)\n",
    "\n",
    "    plt.show()\n",
    "\n",
    "def generate_test_set_regression():\n",
    "    np.random.seed(42)\n",
    "    [X_test, Y_test] = generate_dataset_regression(300, 20)\n",
    "    return [X_test, Y_test]"
   ]
  },
  {
   "cell_type": "markdown",
   "metadata": {},
   "source": [
    "Simple Classification"
   ]
  },
  {
   "cell_type": "code",
   "execution_count": 4,
   "metadata": {},
   "outputs": [
    {
     "name": "stdout",
     "output_type": "stream",
     "text": [
      "Creating data:\n",
      "0\n",
      "10\n",
      "20\n",
      "30\n",
      "40\n",
      "50\n",
      "60\n",
      "70\n",
      "80\n",
      "90\n",
      "100\n",
      "110\n",
      "120\n",
      "130\n",
      "140\n",
      "150\n",
      "160\n",
      "170\n",
      "180\n",
      "190\n",
      "200\n",
      "210\n",
      "220\n",
      "230\n",
      "240\n",
      "250\n",
      "260\n",
      "270\n",
      "280\n",
      "290\n"
     ]
    }
   ],
   "source": [
    "#Generation of data\n",
    "[X_train, Y_train] = generate_dataset_classification(300, 20)"
   ]
  },
  {
   "cell_type": "markdown",
   "metadata": {},
   "source": [
    "Gradient descent optimizer"
   ]
  },
  {
   "cell_type": "code",
   "execution_count": 499,
   "metadata": {},
   "outputs": [
    {
     "name": "stdout",
     "output_type": "stream",
     "text": [
      "Epoch 1/10\n",
      "300/300 [==============================] - 1s 5ms/step - loss: 0.3278 - acc: 0.3900\n",
      "Epoch 2/10\n",
      "300/300 [==============================] - 0s 230us/step - loss: 0.1838 - acc: 0.5733\n",
      "Epoch 3/10\n",
      "300/300 [==============================] - 0s 230us/step - loss: 0.1541 - acc: 0.6667\n",
      "Epoch 4/10\n",
      "300/300 [==============================] - 0s 245us/step - loss: 0.1146 - acc: 0.8000\n",
      "Epoch 5/10\n",
      "300/300 [==============================] - 0s 193us/step - loss: 0.0873 - acc: 0.8333\n",
      "Epoch 6/10\n",
      "300/300 [==============================] - 0s 230us/step - loss: 0.0714 - acc: 0.8633\n",
      "Epoch 7/10\n",
      "300/300 [==============================] - 0s 253us/step - loss: 0.0578 - acc: 0.9000\n",
      "Epoch 8/10\n",
      "300/300 [==============================] - 0s 237us/step - loss: 0.0599 - acc: 0.8600\n",
      "Epoch 9/10\n",
      "300/300 [==============================] - 0s 230us/step - loss: 0.0462 - acc: 0.9200\n",
      "Epoch 10/10\n",
      "300/300 [==============================] - 0s 208us/step - loss: 0.0463 - acc: 0.9067\n"
     ]
    },
    {
     "data": {
      "text/plain": [
       "<keras.callbacks.History at 0x293c87c6358>"
      ]
     },
     "execution_count": 499,
     "metadata": {},
     "output_type": "execute_result"
    }
   ],
   "source": [
    "#Sortie: 0=rectangle, 1=disk, 2=rectangle\n",
    "nb_neurons = 32\n",
    "modelsgd = Sequential([\n",
    "    Dense(nb_neurons, input_shape=(5184,)),\n",
    "    Activation('relu'),\n",
    "    Dense(3),\n",
    "    Activation('softmax')])\n",
    "sgd = SGD(lr=0.01, decay=1e-6, momentum=0.9, nesterov=True)\n",
    "modelsgd.compile(loss = 'mean_squared_error' , optimizer=sgd, metrics=['accuracy'])\n",
    "labels = np_utils.to_categorical(Y_train, num_classes=3)\n",
    "modelsgd.fit(X_train, labels, epochs=10, batch_size=32)"
   ]
  },
  {
   "cell_type": "markdown",
   "metadata": {},
   "source": [
    "Our algorithm will return a list with zeroes and one. The position of the \"1\" indicate if our image is a rectangle, a disk or a triangle."
   ]
  },
  {
   "cell_type": "code",
   "execution_count": 500,
   "metadata": {},
   "outputs": [
    {
     "name": "stdout",
     "output_type": "stream",
     "text": [
      "[[1. 0. 0.]]\n",
      "[[0. 1. 0.]]\n",
      "[[0. 0. 1.]]\n"
     ]
    }
   ],
   "source": [
    "#We test our model\n",
    "X_rectangle = generate_a_rectangle()\n",
    "X_disk = generate_a_disk()\n",
    "X_triangle = generate_a_triangle()[0]\n",
    "X_rectangle = X_rectangle.reshape(1, X_rectangle.shape[0])\n",
    "X_disk = X_disk.reshape(1, X_disk.shape[0])\n",
    "X_triangle = X_triangle.reshape(1, X_triangle.shape[0])\n",
    "print(modelsgd.predict(X_rectangle))\n",
    "print(modelsgd.predict(X_disk))\n",
    "print(modelsgd.predict(X_triangle))"
   ]
  },
  {
   "cell_type": "markdown",
   "metadata": {},
   "source": [
    "Adam optimizer"
   ]
  },
  {
   "cell_type": "code",
   "execution_count": 450,
   "metadata": {},
   "outputs": [
    {
     "name": "stdout",
     "output_type": "stream",
     "text": [
      "Epoch 1/10\n",
      "300/300 [==============================] - 0s 208us/step - loss: 0.4596 - acc: 0.7167\n",
      "Epoch 2/10\n",
      "300/300 [==============================] - 0s 230us/step - loss: 0.4471 - acc: 0.7433\n",
      "Epoch 3/10\n",
      "300/300 [==============================] - 0s 230us/step - loss: 0.4133 - acc: 0.7933\n",
      "Epoch 4/10\n",
      "300/300 [==============================] - 0s 208us/step - loss: 0.3825 - acc: 0.8233\n",
      "Epoch 5/10\n",
      "300/300 [==============================] - 0s 230us/step - loss: 0.3477 - acc: 0.9100\n",
      "Epoch 6/10\n",
      "300/300 [==============================] - 0s 178us/step - loss: 0.3253 - acc: 0.9267\n",
      "Epoch 7/10\n",
      "300/300 [==============================] - 0s 260us/step - loss: 0.2931 - acc: 0.9233\n",
      "Epoch 8/10\n",
      "300/300 [==============================] - 0s 189us/step - loss: 0.2835 - acc: 0.9500\n",
      "Epoch 9/10\n",
      "300/300 [==============================] - 0s 271us/step - loss: 0.2548 - acc: 0.9633\n",
      "Epoch 10/10\n",
      "300/300 [==============================] - 0s 230us/step - loss: 0.2379 - acc: 0.9433\n"
     ]
    },
    {
     "data": {
      "text/plain": [
       "<keras.callbacks.History at 0x2939165ba58>"
      ]
     },
     "execution_count": 450,
     "metadata": {},
     "output_type": "execute_result"
    }
   ],
   "source": [
    "nb_neurons = 32\n",
    "modeladam = Sequential([\n",
    "    Dense(nb_neurons, input_shape=(5184,)),\n",
    "    Activation('relu'),\n",
    "    Dense(3),\n",
    "    Activation('softmax')])\n",
    "modeladam.compile(loss = 'categorical_crossentropy' , optimizer='adam', metrics=['accuracy'])\n",
    "labels = np_utils.to_categorical(Y_train, num_classes=3)\n",
    "modeladam.fit(X_train, labels, epochs=10, batch_size=32)"
   ]
  },
  {
   "cell_type": "code",
   "execution_count": 451,
   "metadata": {},
   "outputs": [
    {
     "name": "stdout",
     "output_type": "stream",
     "text": [
      "[[1. 0. 0.]]\n",
      "[[0. 1. 0.]]\n",
      "[[0. 0. 1.]]\n"
     ]
    }
   ],
   "source": [
    "#We test our model\n",
    "X_rectangle = generate_a_rectangle()\n",
    "X_disk = generate_a_disk()\n",
    "X_triangle = generate_a_triangle()[0]\n",
    "X_rectangle = X_rectangle.reshape(1, X_rectangle.shape[0])\n",
    "X_disk = X_disk.reshape(1, X_disk.shape[0])\n",
    "X_triangle = X_triangle.reshape(1, X_triangle.shape[0])\n",
    "print(modeladam.predict(X_rectangle))\n",
    "print(modeladam.predict(X_disk))\n",
    "print(modeladam.predict(X_triangle))"
   ]
  },
  {
   "cell_type": "markdown",
   "metadata": {},
   "source": [
    "Visualization of the Solution"
   ]
  },
  {
   "cell_type": "code",
   "execution_count": 426,
   "metadata": {},
   "outputs": [
    {
     "data": {
      "text/plain": [
       "[array([[ 1.1502532e-02, -1.5444164e-02,  1.2425272e-02, ...,\n",
       "          1.0970334e-02,  2.6869236e-03, -2.7857663e-02],\n",
       "        [ 5.4817628e-03, -2.3383845e-02,  2.8143367e-02, ...,\n",
       "          1.4144349e-02,  2.7237518e-02,  2.3628594e-02],\n",
       "        [-7.9836678e-03, -3.2841541e-02,  4.4636223e-03, ...,\n",
       "         -9.1962582e-03,  1.6791269e-02, -2.0557925e-02],\n",
       "        ...,\n",
       "        [-8.8043511e-05,  1.5177386e-02, -2.1784257e-02, ...,\n",
       "         -2.5087407e-02,  1.3313531e-02, -2.4526177e-02],\n",
       "        [-1.7986566e-02, -3.3816226e-02, -6.1920676e-03, ...,\n",
       "          5.4822788e-03, -1.5481466e-03,  2.3005603e-02],\n",
       "        [-6.9417227e-03,  1.3733514e-02, -1.4288149e-02, ...,\n",
       "         -1.6891539e-02, -1.1691088e-02,  2.0780852e-02]], dtype=float32),\n",
       " array([ 0.        , -0.00589088,  0.        , ..., -0.00581686,\n",
       "         0.00662128,  0.        ], dtype=float32),\n",
       " array([[ 0.01369356, -0.00964056,  0.03092562],\n",
       "        [ 0.02601969,  0.01925899,  0.00698442],\n",
       "        [-0.02017078, -0.03684411,  0.03713052],\n",
       "        ...,\n",
       "        [ 0.00447461,  0.01557889, -0.01549606],\n",
       "        [-0.02014707,  0.01743216, -0.00557506],\n",
       "        [-0.03348374, -0.00432539, -0.03175213]], dtype=float32),\n",
       " array([-0.00590271,  0.00697521,  0.00414128], dtype=float32)]"
      ]
     },
     "execution_count": 426,
     "metadata": {},
     "output_type": "execute_result"
    }
   ],
   "source": [
    "modeladam.get_weights()"
   ]
  },
  {
   "cell_type": "markdown",
   "metadata": {},
   "source": [
    "We visualize the three vectors"
   ]
  },
  {
   "cell_type": "code",
   "execution_count": 585,
   "metadata": {},
   "outputs": [
    {
     "data": {
      "text/plain": [
       "<matplotlib.image.AxesImage at 0x293cc496400>"
      ]
     },
     "execution_count": 585,
     "metadata": {},
     "output_type": "execute_result"
    },
    {
     "data": {
      "image/png": "[encoded data removed]",
      "text/plain": [
       "<Figure size 432x288 with 1 Axes>"
      ]
     },
     "metadata": {
      "needs_background": "light"
     },
     "output_type": "display_data"
    }
   ],
   "source": [
    "plt.imshow(modeladam.get_weights()[0][:,0].reshape(72,72), cmap='gray')"
   ]
  },
  {
   "cell_type": "code",
   "execution_count": 586,
   "metadata": {},
   "outputs": [
    {
     "data": {
      "text/plain": [
       "<matplotlib.image.AxesImage at 0x293c6a8a668>"
      ]
     },
     "execution_count": 586,
     "metadata": {},
     "output_type": "execute_result"
    },
    {
     "data": {
      "image/png": "[encoded data removed]",
      "text/plain": [
       "<Figure size 432x288 with 1 Axes>"
      ]
     },
     "metadata": {
      "needs_background": "light"
     },
     "output_type": "display_data"
    }
   ],
   "source": [
    "plt.imshow(modeladam.get_weights()[0][:,1].reshape(72,72), cmap='gray')"
   ]
  },
  {
   "cell_type": "code",
   "execution_count": 587,
   "metadata": {},
   "outputs": [
    {
     "data": {
      "text/plain": [
       "<matplotlib.image.AxesImage at 0x29391656b00>"
      ]
     },
     "execution_count": 587,
     "metadata": {},
     "output_type": "execute_result"
    },
    {
     "data": {
      "image/png": "[encoded data removed]",
      "text/plain": [
       "<Figure size 432x288 with 1 Axes>"
      ]
     },
     "metadata": {
      "needs_background": "light"
     },
     "output_type": "display_data"
    }
   ],
   "source": [
    "plt.imshow(modeladam.get_weights()[0][:,2].reshape(72,72), cmap='gray')"
   ]
  },
  {
   "cell_type": "markdown",
   "metadata": {},
   "source": [
    "A More Difficult Classification Problem"
   ]
  },
  {
   "cell_type": "code",
   "execution_count": 16,
   "metadata": {},
   "outputs": [
    {
     "name": "stdout",
     "output_type": "stream",
     "text": [
      "Creating data:\n",
      "0\n",
      "10\n",
      "20\n",
      "30\n",
      "40\n",
      "50\n",
      "60\n",
      "70\n",
      "80\n",
      "90\n",
      "100\n",
      "110\n",
      "120\n",
      "130\n",
      "140\n",
      "150\n",
      "160\n",
      "170\n",
      "180\n",
      "190\n",
      "200\n",
      "210\n",
      "220\n",
      "230\n",
      "240\n",
      "250\n",
      "260\n",
      "270\n",
      "280\n",
      "290\n"
     ]
    }
   ],
   "source": [
    "[X_train, Y_train] = generate_dataset_classification(300, 20, True)\n",
    "labels = np_utils.to_categorical(Y_train, num_classes=3)"
   ]
  },
  {
   "cell_type": "markdown",
   "metadata": {},
   "source": [
    "The linear classifier"
   ]
  },
  {
   "cell_type": "code",
   "execution_count": 550,
   "metadata": {},
   "outputs": [
    {
     "name": "stdout",
     "output_type": "stream",
     "text": [
      "Epoch 1/10\n",
      "300/300 [==============================] - 2s 5ms/step - loss: 2.0572 - acc: 0.3133\n",
      "Epoch 2/10\n",
      "300/300 [==============================] - 0s 230us/step - loss: 1.2712 - acc: 0.3667\n",
      "Epoch 3/10\n",
      "300/300 [==============================] - 0s 208us/step - loss: 1.0328 - acc: 0.4800\n",
      "Epoch 4/10\n",
      "300/300 [==============================] - 0s 230us/step - loss: 0.9727 - acc: 0.4900\n",
      "Epoch 5/10\n",
      "300/300 [==============================] - 0s 230us/step - loss: 1.1275 - acc: 0.4500\n",
      "Epoch 6/10\n",
      "300/300 [==============================] - 0s 208us/step - loss: 0.9710 - acc: 0.5033\n",
      "Epoch 7/10\n",
      "300/300 [==============================] - 0s 230us/step - loss: 0.9491 - acc: 0.5533\n",
      "Epoch 8/10\n",
      "300/300 [==============================] - 0s 230us/step - loss: 1.0192 - acc: 0.5233\n",
      "Epoch 9/10\n",
      "300/300 [==============================] - 0s 230us/step - loss: 0.8440 - acc: 0.6133\n",
      "Epoch 10/10\n",
      "300/300 [==============================] - 0s 208us/step - loss: 0.8078 - acc: 0.6533\n"
     ]
    },
    {
     "data": {
      "text/plain": [
       "<keras.callbacks.History at 0x293c6b25b70>"
      ]
     },
     "execution_count": 550,
     "metadata": {},
     "output_type": "execute_result"
    }
   ],
   "source": [
    "nb_neurons = 32\n",
    "model = Sequential([\n",
    "    Dense(nb_neurons, input_shape=(5184,)),\n",
    "    Activation('relu'),\n",
    "    Dense(3),\n",
    "    Activation('softmax')])\n",
    "model.compile(loss = 'categorical_crossentropy' , optimizer='adam', metrics=['accuracy'])\n",
    "labels = np_utils.to_categorical(Y_train, num_classes=3)\n",
    "model.fit(X_train, labels, epochs=10, batch_size=32)"
   ]
  },
  {
   "cell_type": "code",
   "execution_count": 7,
   "metadata": {},
   "outputs": [
    {
     "name": "stdout",
     "output_type": "stream",
     "text": [
      "Creating data:\n",
      "0\n",
      "10\n",
      "20\n",
      "30\n",
      "40\n",
      "50\n",
      "60\n",
      "70\n",
      "80\n",
      "90\n",
      "100\n",
      "110\n",
      "120\n",
      "130\n",
      "140\n",
      "150\n",
      "160\n",
      "170\n",
      "180\n",
      "190\n",
      "200\n",
      "210\n",
      "220\n",
      "230\n",
      "240\n",
      "250\n",
      "260\n",
      "270\n",
      "280\n",
      "290\n"
     ]
    }
   ],
   "source": [
    "[X_test, Y_test] = generate_test_set_classification()"
   ]
  },
  {
   "cell_type": "code",
   "execution_count": 552,
   "metadata": {},
   "outputs": [
    {
     "name": "stdout",
     "output_type": "stream",
     "text": [
      "300/300 [==============================] - 1s 2ms/step\n"
     ]
    },
    {
     "data": {
      "text/plain": [
       "[0.9467106572786967, 0.5533333325386047]"
      ]
     },
     "execution_count": 552,
     "metadata": {},
     "output_type": "execute_result"
    }
   ],
   "source": [
    "model.evaluate(X_test, Y_test)"
   ]
  },
  {
   "cell_type": "markdown",
   "metadata": {},
   "source": [
    "Convolutional classifier"
   ]
  },
  {
   "cell_type": "code",
   "execution_count": 22,
   "metadata": {},
   "outputs": [
    {
     "name": "stdout",
     "output_type": "stream",
     "text": [
      "(300, 72, 72)\n"
     ]
    },
    {
     "data": {
      "text/plain": [
       "(300, 72, 72, 1)"
      ]
     },
     "execution_count": 22,
     "metadata": {},
     "output_type": "execute_result"
    }
   ],
   "source": [
    "X_trainconv = np.array([i.reshape(72,72) for i in X_train])\n",
    "X_testconv = np.array([i.reshape(72,72) for i in X_test])\n",
    "print(np.shape(X_trainconv))\n",
    "X_trainconv = X_trainconv.reshape((300, 72,72, -1))\n",
    "X_testconv = X_testconv.reshape((300, 72,72, -1))"
   ]
  },
  {
   "cell_type": "code",
   "execution_count": 32,
   "metadata": {},
   "outputs": [],
   "source": [
    "model = Sequential()\n",
    "model.add(Conv2D(16, kernel_size=(5, 5), strides=(1, 1), activation='relu', input_shape=(72,72,1)))\n",
    "model.add(MaxPooling2D(pool_size=(2, 2), strides=(2, 2)))\n",
    "model.add(Flatten())\n",
    "model.add(Dense(1000, activation='relu'))\n",
    "model.add(Dense(3, activation='softmax'))"
   ]
  },
  {
   "cell_type": "code",
   "execution_count": 33,
   "metadata": {},
   "outputs": [],
   "source": [
    "model.compile(loss='categorical_crossentropy', optimizer = SGD(lr=0.01), metrics=['accuracy'])"
   ]
  },
  {
   "cell_type": "code",
   "execution_count": 36,
   "metadata": {},
   "outputs": [
    {
     "name": "stdout",
     "output_type": "stream",
     "text": [
      "Train on 300 samples, validate on 300 samples\n",
      "Epoch 1/10\n",
      "300/300 [==============================] - 3s 9ms/step - loss: 0.9092 - acc: 0.5667 - val_loss: 0.9511 - val_acc: 0.4600\n",
      "Epoch 2/10\n",
      "300/300 [==============================] - 3s 9ms/step - loss: 0.8870 - acc: 0.5867 - val_loss: 0.9543 - val_acc: 0.4367\n",
      "Epoch 3/10\n",
      "300/300 [==============================] - 3s 10ms/step - loss: 0.8909 - acc: 0.5667 - val_loss: 0.8835 - val_acc: 0.5333\n",
      "Epoch 4/10\n",
      "300/300 [==============================] - 3s 10ms/step - loss: 0.8021 - acc: 0.6967 - val_loss: 1.1336 - val_acc: 0.3300\n",
      "Epoch 5/10\n",
      "300/300 [==============================] - 3s 10ms/step - loss: 0.8990 - acc: 0.5567 - val_loss: 0.9303 - val_acc: 0.5733\n",
      "Epoch 6/10\n",
      "300/300 [==============================] - 3s 10ms/step - loss: 0.7991 - acc: 0.6533 - val_loss: 0.8611 - val_acc: 0.5933\n",
      "Epoch 7/10\n",
      "300/300 [==============================] - 3s 11ms/step - loss: 0.8083 - acc: 0.6400 - val_loss: 0.8662 - val_acc: 0.5867\n",
      "Epoch 8/10\n",
      "300/300 [==============================] - 3s 10ms/step - loss: 0.7819 - acc: 0.6867 - val_loss: 0.8837 - val_acc: 0.5900\n",
      "Epoch 9/10\n",
      "300/300 [==============================] - 3s 11ms/step - loss: 0.7577 - acc: 0.7200 - val_loss: 0.9099 - val_acc: 0.5733\n",
      "Epoch 10/10\n",
      "300/300 [==============================] - 3s 10ms/step - loss: 0.7679 - acc: 0.6633 - val_loss: 0.8766 - val_acc: 0.5667\n"
     ]
    },
    {
     "data": {
      "text/plain": [
       "<keras.callbacks.History at 0x231835e8748>"
      ]
     },
     "execution_count": 36,
     "metadata": {},
     "output_type": "execute_result"
    }
   ],
   "source": [
    "model.fit(X_trainconv, labels, epochs=10, batch_size=32, verbose=1, validation_data=(X_testconv, Y_test))"
   ]
  },
  {
   "cell_type": "code",
   "execution_count": 37,
   "metadata": {},
   "outputs": [
    {
     "name": "stdout",
     "output_type": "stream",
     "text": [
      "300/300 [==============================] - 1s 2ms/step\n",
      "Test loss: 0.8766159701347351\n",
      "Test accuracy: 0.5666666666666667\n"
     ]
    }
   ],
   "source": [
    "score = model.evaluate(X_testconv, Y_test)\n",
    "print('Test loss:', score[0])\n",
    "print('Test accuracy:', score[1])"
   ]
  },
  {
   "cell_type": "markdown",
   "metadata": {},
   "source": [
    "We have weak results with the two methods. Only 55% with the previous method and 56% with convolutional classifier."
   ]
  },
  {
   "cell_type": "markdown",
   "metadata": {},
   "source": [
    "A Regression Problem"
   ]
  },
  {
   "cell_type": "code",
   "execution_count": null,
   "metadata": {},
   "outputs": [],
   "source": []
  },
  {
   "cell_type": "markdown",
   "metadata": {},
   "source": [
    "Image Denoising"
   ]
  },
  {
   "cell_type": "code",
   "execution_count": null,
   "metadata": {},
   "outputs": [],
   "source": []
  }
 ],
 "metadata": {
  "kernelspec": {
   "display_name": "Python 3",
   "language": "python",
   "name": "python3"
  },
  "language_info": {
   "codemirror_mode": {
    "name": "ipython",
    "version": 3
   },
   "file_extension": ".py",
   "mimetype": "text/x-python",
   "name": "python",
   "nbconvert_exporter": "python",
   "pygments_lexer": "ipython3",
   "version": "3.6.7"
  }
 },
 "nbformat": 4,
 "nbformat_minor": 1
}
